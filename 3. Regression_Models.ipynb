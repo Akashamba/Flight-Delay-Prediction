{
  "nbformat": 4,
  "nbformat_minor": 0,
  "metadata": {
    "colab": {
      "name": "Regression Models",
      "provenance": []
    },
    "kernelspec": {
      "name": "python3",
      "display_name": "Python 3"
    },
    "language_info": {
      "name": "python"
    }
  },
  "cells": [
    {
      "cell_type": "markdown",
      "metadata": {
        "id": "NP_8Ic-77BGD"
      },
      "source": [
        "# Regression Models\n",
        "Comparing the goodness of the following Regression Models\n",
        "* Linear Regression\n",
        "* Extra Trees\n",
        "* XGBoost\n",
        "* Random Forest\n",
        "* SGDRegressor (SVM) "
      ]
    },
    {
      "cell_type": "markdown",
      "metadata": {
        "id": "Oob0nv3j7nJQ"
      },
      "source": [
        "## Imports"
      ]
    },
    {
      "cell_type": "code",
      "metadata": {
        "id": "VjZfRzKY7ZXo"
      },
      "source": [
        "import pandas as pd\n",
        "import numpy as np\n",
        "\n",
        "from sklearn.model_selection import train_test_split\n",
        "from sklearn.preprocessing import StandardScaler\n",
        "\n",
        "from sklearn.linear_model import LinearRegression\n",
        "from sklearn.ensemble import ExtraTreesRegressor\n",
        "from xgboost import XGBRegressor\n",
        "from sklearn.ensemble import RandomForestRegressor\n",
        "from sklearn.linear_model import SGDRegressor\n",
        "\n",
        "from sklearn.metrics import r2_score as R2, mean_absolute_error as MAE, mean_squared_error as  MSE"
      ],
      "execution_count": null,
      "outputs": []
    },
    {
      "cell_type": "markdown",
      "metadata": {
        "id": "wnZQB-rA73Ao"
      },
      "source": [
        "## Utilities"
      ]
    },
    {
      "cell_type": "code",
      "metadata": {
        "id": "WpM5i5K6yAgf",
        "colab": {
          "base_uri": "https://localhost:8080/"
        },
        "outputId": "5244d0ff-47e5-4577-873f-6f9736bf338c"
      },
      "source": [
        "features = ['OriginAirportID', 'DestAirportID', 'DepTime',\n",
        "       'DepDelayMinutes', 'DepDel15', 'WindSpeedKmph_Origin',\n",
        "       'WindDirDegree_Origin', 'WeatherCode_Origin', 'precipMM_Origin',\n",
        "       'Visibility_Origin', 'Pressure_Origin', 'Cloudcover_Origin',\n",
        "       'DewPointF_Origin', 'WindGustKmph_Origin', 'tempF_Origin',\n",
        "       'WindChillF_Origin', 'Humidity_Origin', 'WindSpeedKmph_Dest',\n",
        "       'WindDirDegree_Dest', 'WeatherCode_Dest', 'precipMM_Dest',\n",
        "       'Visibility_Dest', 'Pressure_Dest', 'Cloudcover_Dest', 'DewPointF_Dest',\n",
        "       'WindGustKmph_Dest', 'tempF_Dest', 'WindChillF_Dest', 'Humidity_Dest']\n",
        "       \n",
        "target = 'ArrDelayMinutes'\n",
        "\n",
        "for feature in features:\n",
        "  print(feature, end=\", \")"
      ],
      "execution_count": null,
      "outputs": [
        {
          "output_type": "stream",
          "text": [
            "OriginAirportID, DestAirportID, DepTime, DepDelayMinutes, DepDel15, WindSpeedKmph_Origin, WindDirDegree_Origin, WeatherCode_Origin, precipMM_Origin, Visibility_Origin, Pressure_Origin, Cloudcover_Origin, DewPointF_Origin, WindGustKmph_Origin, tempF_Origin, WindChillF_Origin, Humidity_Origin, WindSpeedKmph_Dest, WindDirDegree_Dest, WeatherCode_Dest, precipMM_Dest, Visibility_Dest, Pressure_Dest, Cloudcover_Dest, DewPointF_Dest, WindGustKmph_Dest, tempF_Dest, WindChillF_Dest, Humidity_Dest, "
          ],
          "name": "stdout"
        }
      ]
    },
    {
      "cell_type": "code",
      "metadata": {
        "id": "dueS-wuF0MA7"
      },
      "source": [
        "def predict(model, X_train, X_test, y_train, y_test, string):\n",
        "  print(string, \"\")\n",
        "  model.fit(X_train, y_train)\n",
        "  predictions = model.predict(X_test)\n",
        "\n",
        "  print(\"R2:\", R2(y_test, predictions))\n",
        "  print(\"MAE:\", MAE(y_test, predictions))\n",
        "  print(\"RMSE:\", np.sqrt(MSE(y_test, predictions)))\n",
        "\n",
        "  print(\"\\n\\n\\n\")"
      ],
      "execution_count": null,
      "outputs": []
    },
    {
      "cell_type": "markdown",
      "metadata": {
        "id": "vUhKUtaS70Qj"
      },
      "source": [
        "## Dataset"
      ]
    },
    {
      "cell_type": "code",
      "metadata": {
        "colab": {
          "base_uri": "https://localhost:8080/"
        },
        "id": "kDUxnZf27pEk",
        "outputId": "e3ee0faf-5321-4131-aa07-ed40cece2e14"
      },
      "source": [
        "data = pd.read_csv(\"drive/MyDrive/Data/dataset.csv\")\n",
        "data = data[data[\"ArrDel15\"] == 1]\n",
        "print(data.shape)"
      ],
      "execution_count": null,
      "outputs": [
        {
          "output_type": "stream",
          "text": [
            "(388058, 43)\n"
          ],
          "name": "stdout"
        }
      ]
    },
    {
      "cell_type": "markdown",
      "metadata": {
        "id": "kMxaFGVR8Gj2"
      },
      "source": [
        "## Separating X and y"
      ]
    },
    {
      "cell_type": "code",
      "metadata": {
        "id": "CfhLSquD8ImS"
      },
      "source": [
        "X = data[features]\n",
        "y = data[target]\n",
        "X_train, X_test, y_train, y_test = train_test_split(X, y, test_size=0.2)\n",
        "\n",
        "scaler = StandardScaler()\n",
        "scaler.fit(X)\n",
        "X_train_scaled = scaler.transform(X_train)\n",
        "X_test_scaled = scaler.transform(X_test)"
      ],
      "execution_count": null,
      "outputs": []
    },
    {
      "cell_type": "markdown",
      "metadata": {
        "id": "BF8Z5q448LPZ"
      },
      "source": [
        "## Models"
      ]
    },
    {
      "cell_type": "code",
      "metadata": {
        "colab": {
          "base_uri": "https://localhost:8080/"
        },
        "id": "ggKb3qlP8b4A",
        "outputId": "670e7257-71ee-4d82-ee92-94061b5dcfef"
      },
      "source": [
        "predict(LinearRegression(), X_train, X_test, y_train, y_test, \"LinearRegression\")\n",
        "predict(ExtraTreesRegressor(), X_train, X_test, y_train, y_test, \"ExtraTreesRegressor\")\n",
        "predict(XGBRegressor(), X_train, X_test, y_train, y_test, \"XGBRegressor\")\n",
        "predict(RandomForestRegressor(), X_train, X_test, y_train, y_test, \"RandomForestRegressor\")\n",
        "predict(SGDRegressor(), X_train_scaled, X_test_scaled, y_train, y_test, \"SGDRegressor\")"
      ],
      "execution_count": null,
      "outputs": [
        {
          "output_type": "stream",
          "text": [
            "LinearRegression \n",
            "R2: 0.9401241100353579\n",
            "MAE: 12.178193610196125\n",
            "RMSE: 17.588095946430137\n",
            "\n",
            "\n",
            "\n",
            "\n",
            "ExtraTreesRegressor \n",
            "R2: 0.9461500690605955\n",
            "MAE: 11.743619929907744\n",
            "RMSE: 16.679591520117405\n",
            "\n",
            "\n",
            "\n",
            "\n",
            "XGBRegressor \n",
            "[14:43:11] WARNING: /workspace/src/objective/regression_obj.cu:152: reg:linear is now deprecated in favor of reg:squarederror.\n",
            "R2: 0.9449727831848853\n",
            "MAE: 11.614156521995406\n",
            "RMSE: 16.86093324865755\n",
            "\n",
            "\n",
            "\n",
            "\n",
            "RandomForestRegressor \n",
            "R2: 0.9468064349795956\n",
            "MAE: 11.675270654636128\n",
            "RMSE: 16.5776277795784\n",
            "\n",
            "\n",
            "\n",
            "\n",
            "SGDRegressor \n",
            "R2: 0.9399593328134003\n",
            "MAE: 12.157829456362915\n",
            "RMSE: 17.612280358888132\n",
            "\n",
            "\n",
            "\n",
            "\n"
          ],
          "name": "stdout"
        }
      ]
    }
  ]
}