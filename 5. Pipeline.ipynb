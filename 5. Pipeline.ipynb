{
  "nbformat": 4,
  "nbformat_minor": 0,
  "metadata": {
    "colab": {
      "name": "Two Stage Predictive Engine ",
      "provenance": []
    },
    "kernelspec": {
      "name": "python3",
      "display_name": "Python 3"
    },
    "language_info": {
      "name": "python"
    }
  },
  "cells": [
    {
      "cell_type": "markdown",
      "metadata": {
        "id": "3BX1RtbvAvoC"
      },
      "source": [
        "# Two Stage Predictive Engine\n",
        "A two stage predictive machine learning engine that forecasts the on-time\n",
        "performance of flight from the given datasets "
      ]
    },
    {
      "cell_type": "markdown",
      "metadata": {
        "id": "zAwSCZ1-A8uD"
      },
      "source": [
        "## Imports"
      ]
    },
    {
      "cell_type": "code",
      "metadata": {
        "id": "fVNWUyCr4Ak5"
      },
      "source": [
        "import pandas as pd\n",
        "import numpy as np\n",
        "from sklearn.model_selection import train_test_split\n",
        "\n",
        "from sklearn.ensemble import RandomForestClassifier\n",
        "from sklearn.ensemble import RandomForestRegressor\n",
        "\n",
        "from sklearn.metrics import classification_report, accuracy_score, balanced_accuracy_score\n",
        "from sklearn.metrics import r2_score as R2, mean_absolute_error as MAE, mean_squared_error as  MSE"
      ],
      "execution_count": 1,
      "outputs": []
    },
    {
      "cell_type": "markdown",
      "metadata": {
        "id": "GlcMJMy9BcAR"
      },
      "source": [
        "## Utilities"
      ]
    },
    {
      "cell_type": "code",
      "metadata": {
        "id": "7zDx9aedBdp3"
      },
      "source": [
        "features_classification = ['OriginAirportID', 'DestAirportID',\n",
        "            'DepTime', 'DepDelayMinutes', 'WindSpeedKmph_Origin', \n",
        "            'WindDirDegree_Origin', 'WeatherCode_Origin',\n",
        "            'precipMM_Origin', 'Visibility_Origin', 'Pressure_Origin',\n",
        "            'Cloudcover_Origin', 'DewPointF_Origin', 'WindGustKmph_Origin',\n",
        "            'tempF_Origin', 'WindChillF_Origin', 'Humidity_Origin',\n",
        "            'WindSpeedKmph_Dest', 'WindDirDegree_Dest', 'WeatherCode_Dest',\n",
        "            'precipMM_Dest', 'Visibility_Dest', 'Pressure_Dest', 'Cloudcover_Dest',\n",
        "            'DewPointF_Dest', 'WindGustKmph_Dest', 'tempF_Dest', 'WindChillF_Dest',\n",
        "            'Humidity_Dest']\n",
        "\n",
        "target_classification = 'ArrDel15'\n",
        "\n",
        "features_regression = ['OriginAirportID', 'DestAirportID', 'DepTime',\n",
        "       'DepDelayMinutes', 'DepDel15', 'WindSpeedKmph_Origin',\n",
        "       'WindDirDegree_Origin', 'WeatherCode_Origin', 'precipMM_Origin',\n",
        "       'Visibility_Origin', 'Pressure_Origin', 'Cloudcover_Origin',\n",
        "       'DewPointF_Origin', 'WindGustKmph_Origin', 'tempF_Origin',\n",
        "       'WindChillF_Origin', 'Humidity_Origin', 'WindSpeedKmph_Dest',\n",
        "       'WindDirDegree_Dest', 'WeatherCode_Dest', 'precipMM_Dest',\n",
        "       'Visibility_Dest', 'Pressure_Dest', 'Cloudcover_Dest', 'DewPointF_Dest',\n",
        "       'WindGustKmph_Dest', 'tempF_Dest', 'WindChillF_Dest', 'Humidity_Dest']\n",
        "       \n",
        "target_regression = 'ArrDelayMinutes'"
      ],
      "execution_count": 2,
      "outputs": []
    },
    {
      "cell_type": "markdown",
      "metadata": {
        "id": "AzQq3tQJBeQd"
      },
      "source": [
        "## Dataset"
      ]
    },
    {
      "cell_type": "code",
      "metadata": {
        "id": "ix4ltDkmBgdA"
      },
      "source": [
        "originalDF = pd.read_csv(\"drive/MyDrive/Data/dataset.csv\")\n",
        "originalDF = originalDF.astype({\"ArrDel15\": np.int64})"
      ],
      "execution_count": 3,
      "outputs": []
    },
    {
      "cell_type": "markdown",
      "metadata": {
        "id": "OJ5Nq2S8BnBb"
      },
      "source": [
        "## Pipeline"
      ]
    },
    {
      "cell_type": "markdown",
      "metadata": {
        "id": "K6Sl3eLxKy43"
      },
      "source": [
        "### Classification"
      ]
    },
    {
      "cell_type": "code",
      "metadata": {
        "id": "Cu5w4xgYBpRB"
      },
      "source": [
        "X = originalDF[features_classification]\n",
        "y = originalDF[target_classification]\n",
        "\n",
        "X_train, X_test, y_train, y_test = train_test_split(X, y, test_size=0.2)"
      ],
      "execution_count": 4,
      "outputs": []
    },
    {
      "cell_type": "code",
      "metadata": {
        "colab": {
          "base_uri": "https://localhost:8080/"
        },
        "id": "w-1PnkquMdDT",
        "outputId": "ab2b2c0c-a6a8-4159-b3c8-11e8863021b3"
      },
      "source": [
        "model = RandomForestClassifier()\n",
        "model.fit(X_train, y_train)\n",
        "predictions = model.predict(X_test)\n",
        "print(classification_report(y_test, predictions))\n",
        "print(\"Accuracy Score: \", accuracy_score(y_test, predictions))\n",
        "print(\"Balanced Accuracy Score: \", balanced_accuracy_score(y_test, predictions))"
      ],
      "execution_count": 5,
      "outputs": [
        {
          "output_type": "stream",
          "text": [
            "              precision    recall  f1-score   support\n",
            "\n",
            "           0       0.92      0.98      0.95    292831\n",
            "           1       0.88      0.70      0.78     77457\n",
            "\n",
            "    accuracy                           0.92    370288\n",
            "   macro avg       0.90      0.84      0.87    370288\n",
            "weighted avg       0.92      0.92      0.91    370288\n",
            "\n",
            "Accuracy Score:  0.9177829149202783\n",
            "Balanced Accuracy Score:  0.8378800741363226\n"
          ],
          "name": "stdout"
        }
      ]
    },
    {
      "cell_type": "code",
      "metadata": {
        "id": "4qfudAHZLKc2"
      },
      "source": [
        "originalDF[\"ArrDel15_Pred\"] = model.predict(originalDF[features_classification])\n",
        "delayedDF = originalDF[originalDF[\"ArrDel15_Pred\"] == 1]\n",
        "# delayedDF = originalDF.loc[\"ArrDel15_Pred\" == 1].copy()"
      ],
      "execution_count": 6,
      "outputs": []
    },
    {
      "cell_type": "markdown",
      "metadata": {
        "id": "xi9iJqtIL39H"
      },
      "source": [
        "## Regression"
      ]
    },
    {
      "cell_type": "code",
      "metadata": {
        "id": "M7kApe9nL6BS"
      },
      "source": [
        "originalDF = originalDF[originalDF[\"ArrDel15\"] == 1]\n",
        "\n",
        "X_train = originalDF[features_regression] \n",
        "X_test = delayedDF[features_regression]\n",
        "y_train = originalDF[target_regression]\n",
        "y_test = delayedDF[target_regression]"
      ],
      "execution_count": 7,
      "outputs": []
    },
    {
      "cell_type": "code",
      "metadata": {
        "colab": {
          "base_uri": "https://localhost:8080/"
        },
        "id": "nL-RRJO8Mh-V",
        "outputId": "0ec8264c-56a7-47fa-9598-34dfab98bc54"
      },
      "source": [
        "model = RandomForestRegressor()\n",
        "model.fit(X_train, y_train)\n",
        "predictions = model.predict(X_test)\n",
        "\n",
        "print(\"R2:\", R2(y_test, predictions))\n",
        "print(\"MAE:\", MAE(y_test, predictions))\n",
        "print(\"RMSE:\", np.sqrt(MSE(y_test, predictions)))"
      ],
      "execution_count": 8,
      "outputs": [
        {
          "output_type": "stream",
          "text": [
            "R2: 0.990657134088464\n",
            "MAE: 4.743965092474668\n",
            "RMSE: 7.074138064438183\n"
          ],
          "name": "stdout"
        }
      ]
    },
    {
      "cell_type": "code",
      "metadata": {
        "colab": {
          "base_uri": "https://localhost:8080/",
          "height": 222
        },
        "id": "cpcu6FfkMrqE",
        "outputId": "4a3aaf06-2884-40f0-8310-c7eab79bb84a"
      },
      "source": [
        "delayedDF[\"ArrDelMinutes_Pred\"] = predictions\n",
        "delayedDF.head()"
      ],
      "execution_count": 9,
      "outputs": [
        {
          "output_type": "execute_result",
          "data": {
            "text/html": [
              "<div>\n",
              "<style scoped>\n",
              "    .dataframe tbody tr th:only-of-type {\n",
              "        vertical-align: middle;\n",
              "    }\n",
              "\n",
              "    .dataframe tbody tr th {\n",
              "        vertical-align: top;\n",
              "    }\n",
              "\n",
              "    .dataframe thead th {\n",
              "        text-align: right;\n",
              "    }\n",
              "</style>\n",
              "<table border=\"1\" class=\"dataframe\">\n",
              "  <thead>\n",
              "    <tr style=\"text-align: right;\">\n",
              "      <th></th>\n",
              "      <th>Year</th>\n",
              "      <th>Quarter</th>\n",
              "      <th>Month</th>\n",
              "      <th>DayofMonth</th>\n",
              "      <th>FlightDate</th>\n",
              "      <th>OriginAirportID</th>\n",
              "      <th>Origin</th>\n",
              "      <th>DestAirportID</th>\n",
              "      <th>Dest</th>\n",
              "      <th>CRSDepTime</th>\n",
              "      <th>DepTime</th>\n",
              "      <th>DepDelayMinutes</th>\n",
              "      <th>DepDel15</th>\n",
              "      <th>CRSArrTime</th>\n",
              "      <th>ArrTime</th>\n",
              "      <th>ArrDelayMinutes</th>\n",
              "      <th>ArrDel15</th>\n",
              "      <th>DepHour</th>\n",
              "      <th>ArrHour</th>\n",
              "      <th>WindSpeedKmph_Origin</th>\n",
              "      <th>WindDirDegree_Origin</th>\n",
              "      <th>WeatherCode_Origin</th>\n",
              "      <th>precipMM_Origin</th>\n",
              "      <th>Visibility_Origin</th>\n",
              "      <th>Pressure_Origin</th>\n",
              "      <th>Cloudcover_Origin</th>\n",
              "      <th>DewPointF_Origin</th>\n",
              "      <th>WindGustKmph_Origin</th>\n",
              "      <th>tempF_Origin</th>\n",
              "      <th>WindChillF_Origin</th>\n",
              "      <th>Humidity_Origin</th>\n",
              "      <th>WindSpeedKmph_Dest</th>\n",
              "      <th>WindDirDegree_Dest</th>\n",
              "      <th>WeatherCode_Dest</th>\n",
              "      <th>precipMM_Dest</th>\n",
              "      <th>Visibility_Dest</th>\n",
              "      <th>Pressure_Dest</th>\n",
              "      <th>Cloudcover_Dest</th>\n",
              "      <th>DewPointF_Dest</th>\n",
              "      <th>WindGustKmph_Dest</th>\n",
              "      <th>tempF_Dest</th>\n",
              "      <th>WindChillF_Dest</th>\n",
              "      <th>Humidity_Dest</th>\n",
              "      <th>ArrDel15_Pred</th>\n",
              "      <th>ArrDelMinutes_Pred</th>\n",
              "    </tr>\n",
              "  </thead>\n",
              "  <tbody>\n",
              "    <tr>\n",
              "      <th>1</th>\n",
              "      <td>2016</td>\n",
              "      <td>1</td>\n",
              "      <td>1</td>\n",
              "      <td>1</td>\n",
              "      <td>2016-01-01</td>\n",
              "      <td>13204</td>\n",
              "      <td>MCO</td>\n",
              "      <td>12478</td>\n",
              "      <td>JFK</td>\n",
              "      <td>1330</td>\n",
              "      <td>1408</td>\n",
              "      <td>38.0</td>\n",
              "      <td>1.0</td>\n",
              "      <td>1603</td>\n",
              "      <td>1628</td>\n",
              "      <td>25.0</td>\n",
              "      <td>1</td>\n",
              "      <td>1400</td>\n",
              "      <td>1600</td>\n",
              "      <td>8</td>\n",
              "      <td>227</td>\n",
              "      <td>122</td>\n",
              "      <td>0.1</td>\n",
              "      <td>8</td>\n",
              "      <td>1019</td>\n",
              "      <td>79</td>\n",
              "      <td>72</td>\n",
              "      <td>10</td>\n",
              "      <td>79</td>\n",
              "      <td>78</td>\n",
              "      <td>83</td>\n",
              "      <td>21</td>\n",
              "      <td>254</td>\n",
              "      <td>113</td>\n",
              "      <td>0.0</td>\n",
              "      <td>10</td>\n",
              "      <td>1016</td>\n",
              "      <td>0</td>\n",
              "      <td>33</td>\n",
              "      <td>24</td>\n",
              "      <td>42</td>\n",
              "      <td>33</td>\n",
              "      <td>74</td>\n",
              "      <td>1</td>\n",
              "      <td>29.02</td>\n",
              "    </tr>\n",
              "    <tr>\n",
              "      <th>11</th>\n",
              "      <td>2016</td>\n",
              "      <td>1</td>\n",
              "      <td>1</td>\n",
              "      <td>1</td>\n",
              "      <td>2016-01-01</td>\n",
              "      <td>14747</td>\n",
              "      <td>SEA</td>\n",
              "      <td>14771</td>\n",
              "      <td>SFO</td>\n",
              "      <td>724</td>\n",
              "      <td>759</td>\n",
              "      <td>35.0</td>\n",
              "      <td>1.0</td>\n",
              "      <td>946</td>\n",
              "      <td>1010</td>\n",
              "      <td>24.0</td>\n",
              "      <td>1</td>\n",
              "      <td>700</td>\n",
              "      <td>1000</td>\n",
              "      <td>7</td>\n",
              "      <td>106</td>\n",
              "      <td>113</td>\n",
              "      <td>0.0</td>\n",
              "      <td>10</td>\n",
              "      <td>1030</td>\n",
              "      <td>0</td>\n",
              "      <td>24</td>\n",
              "      <td>8</td>\n",
              "      <td>34</td>\n",
              "      <td>29</td>\n",
              "      <td>67</td>\n",
              "      <td>19</td>\n",
              "      <td>72</td>\n",
              "      <td>113</td>\n",
              "      <td>0.0</td>\n",
              "      <td>10</td>\n",
              "      <td>1023</td>\n",
              "      <td>0</td>\n",
              "      <td>25</td>\n",
              "      <td>30</td>\n",
              "      <td>35</td>\n",
              "      <td>25</td>\n",
              "      <td>70</td>\n",
              "      <td>1</td>\n",
              "      <td>26.99</td>\n",
              "    </tr>\n",
              "    <tr>\n",
              "      <th>13</th>\n",
              "      <td>2016</td>\n",
              "      <td>1</td>\n",
              "      <td>1</td>\n",
              "      <td>1</td>\n",
              "      <td>2016-01-01</td>\n",
              "      <td>13303</td>\n",
              "      <td>MIA</td>\n",
              "      <td>14771</td>\n",
              "      <td>SFO</td>\n",
              "      <td>700</td>\n",
              "      <td>737</td>\n",
              "      <td>37.0</td>\n",
              "      <td>1.0</td>\n",
              "      <td>1021</td>\n",
              "      <td>1047</td>\n",
              "      <td>26.0</td>\n",
              "      <td>1</td>\n",
              "      <td>700</td>\n",
              "      <td>1000</td>\n",
              "      <td>9</td>\n",
              "      <td>109</td>\n",
              "      <td>266</td>\n",
              "      <td>0.2</td>\n",
              "      <td>2</td>\n",
              "      <td>1019</td>\n",
              "      <td>100</td>\n",
              "      <td>70</td>\n",
              "      <td>17</td>\n",
              "      <td>72</td>\n",
              "      <td>72</td>\n",
              "      <td>96</td>\n",
              "      <td>19</td>\n",
              "      <td>72</td>\n",
              "      <td>113</td>\n",
              "      <td>0.0</td>\n",
              "      <td>10</td>\n",
              "      <td>1023</td>\n",
              "      <td>0</td>\n",
              "      <td>25</td>\n",
              "      <td>30</td>\n",
              "      <td>35</td>\n",
              "      <td>25</td>\n",
              "      <td>70</td>\n",
              "      <td>1</td>\n",
              "      <td>29.92</td>\n",
              "    </tr>\n",
              "    <tr>\n",
              "      <th>17</th>\n",
              "      <td>2016</td>\n",
              "      <td>1</td>\n",
              "      <td>1</td>\n",
              "      <td>1</td>\n",
              "      <td>2016-01-01</td>\n",
              "      <td>14107</td>\n",
              "      <td>PHX</td>\n",
              "      <td>14771</td>\n",
              "      <td>SFO</td>\n",
              "      <td>839</td>\n",
              "      <td>911</td>\n",
              "      <td>32.0</td>\n",
              "      <td>1.0</td>\n",
              "      <td>950</td>\n",
              "      <td>1018</td>\n",
              "      <td>28.0</td>\n",
              "      <td>1</td>\n",
              "      <td>900</td>\n",
              "      <td>1000</td>\n",
              "      <td>7</td>\n",
              "      <td>48</td>\n",
              "      <td>113</td>\n",
              "      <td>0.0</td>\n",
              "      <td>10</td>\n",
              "      <td>1021</td>\n",
              "      <td>0</td>\n",
              "      <td>31</td>\n",
              "      <td>14</td>\n",
              "      <td>42</td>\n",
              "      <td>38</td>\n",
              "      <td>69</td>\n",
              "      <td>19</td>\n",
              "      <td>72</td>\n",
              "      <td>113</td>\n",
              "      <td>0.0</td>\n",
              "      <td>10</td>\n",
              "      <td>1023</td>\n",
              "      <td>0</td>\n",
              "      <td>25</td>\n",
              "      <td>30</td>\n",
              "      <td>35</td>\n",
              "      <td>25</td>\n",
              "      <td>70</td>\n",
              "      <td>1</td>\n",
              "      <td>28.87</td>\n",
              "    </tr>\n",
              "    <tr>\n",
              "      <th>19</th>\n",
              "      <td>2016</td>\n",
              "      <td>1</td>\n",
              "      <td>1</td>\n",
              "      <td>1</td>\n",
              "      <td>2016-01-01</td>\n",
              "      <td>13930</td>\n",
              "      <td>ORD</td>\n",
              "      <td>14771</td>\n",
              "      <td>SFO</td>\n",
              "      <td>653</td>\n",
              "      <td>709</td>\n",
              "      <td>16.0</td>\n",
              "      <td>1.0</td>\n",
              "      <td>941</td>\n",
              "      <td>1015</td>\n",
              "      <td>34.0</td>\n",
              "      <td>1</td>\n",
              "      <td>700</td>\n",
              "      <td>1000</td>\n",
              "      <td>21</td>\n",
              "      <td>256</td>\n",
              "      <td>122</td>\n",
              "      <td>0.0</td>\n",
              "      <td>10</td>\n",
              "      <td>1024</td>\n",
              "      <td>66</td>\n",
              "      <td>15</td>\n",
              "      <td>32</td>\n",
              "      <td>20</td>\n",
              "      <td>6</td>\n",
              "      <td>86</td>\n",
              "      <td>19</td>\n",
              "      <td>72</td>\n",
              "      <td>113</td>\n",
              "      <td>0.0</td>\n",
              "      <td>10</td>\n",
              "      <td>1023</td>\n",
              "      <td>0</td>\n",
              "      <td>25</td>\n",
              "      <td>30</td>\n",
              "      <td>35</td>\n",
              "      <td>25</td>\n",
              "      <td>70</td>\n",
              "      <td>1</td>\n",
              "      <td>31.21</td>\n",
              "    </tr>\n",
              "  </tbody>\n",
              "</table>\n",
              "</div>"
            ],
            "text/plain": [
              "    Year  Quarter  Month  ...  Humidity_Dest ArrDel15_Pred  ArrDelMinutes_Pred\n",
              "1   2016        1      1  ...             74             1               29.02\n",
              "11  2016        1      1  ...             70             1               26.99\n",
              "13  2016        1      1  ...             70             1               29.92\n",
              "17  2016        1      1  ...             70             1               28.87\n",
              "19  2016        1      1  ...             70             1               31.21\n",
              "\n",
              "[5 rows x 45 columns]"
            ]
          },
          "metadata": {
            "tags": []
          },
          "execution_count": 9
        }
      ]
    },
    {
      "cell_type": "code",
      "metadata": {
        "id": "XwoByVREWKF7"
      },
      "source": [
        "delayedDF.to_csv(\"drive/MyDrive/Data/temp.csv\")"
      ],
      "execution_count": 10,
      "outputs": []
    }
  ]
}