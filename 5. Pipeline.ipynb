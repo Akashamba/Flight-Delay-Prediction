{
  "nbformat": 4,
  "nbformat_minor": 0,
  "metadata": {
    "colab": {
      "name": "Pipeline redo",
      "provenance": []
    },
    "kernelspec": {
      "name": "python3",
      "display_name": "Python 3"
    },
    "language_info": {
      "name": "python"
    }
  },
  "cells": [
    {
      "cell_type": "markdown",
      "metadata": {
        "id": "WRby7jW0tzsN"
      },
      "source": [
        "## Imports"
      ]
    },
    {
      "cell_type": "code",
      "metadata": {
        "id": "xCWe1r1xtzsP"
      },
      "source": [
        "import pandas as pd\n",
        "import numpy as np\n",
        "from sklearn.model_selection import train_test_split\n",
        "\n",
        "from sklearn.ensemble import RandomForestClassifier\n",
        "from sklearn.ensemble import RandomForestRegressor\n",
        "\n",
        "from sklearn.metrics import classification_report, accuracy_score, balanced_accuracy_score\n",
        "from sklearn.metrics import r2_score as R2, mean_absolute_error as MAE, mean_squared_error as  MSE"
      ],
      "execution_count": 1,
      "outputs": []
    },
    {
      "cell_type": "markdown",
      "metadata": {
        "id": "GlcMJMy9BcAR"
      },
      "source": [
        "## Utilities"
      ]
    },
    {
      "cell_type": "code",
      "metadata": {
        "id": "7zDx9aedBdp3"
      },
      "source": [
        "features_classification = ['OriginAirportID', 'DestAirportID',\n",
        "            'DepTime', 'DepDelayMinutes', 'WindSpeedKmph_Origin', \n",
        "            'WindDirDegree_Origin', 'WeatherCode_Origin',\n",
        "            'precipMM_Origin', 'Visibility_Origin', 'Pressure_Origin',\n",
        "            'Cloudcover_Origin', 'DewPointF_Origin', 'WindGustKmph_Origin',\n",
        "            'tempF_Origin', 'WindChillF_Origin', 'Humidity_Origin',\n",
        "            'WindSpeedKmph_Dest', 'WindDirDegree_Dest', 'WeatherCode_Dest',\n",
        "            'precipMM_Dest', 'Visibility_Dest', 'Pressure_Dest', 'Cloudcover_Dest',\n",
        "            'DewPointF_Dest', 'WindGustKmph_Dest', 'tempF_Dest', 'WindChillF_Dest',\n",
        "            'Humidity_Dest']\n",
        "\n",
        "target_classification = 'ArrDel15'\n",
        "\n",
        "features_regression = ['OriginAirportID', 'DestAirportID', 'DepTime',\n",
        "       'DepDelayMinutes', 'DepDel15', 'WindSpeedKmph_Origin',\n",
        "       'WindDirDegree_Origin', 'WeatherCode_Origin', 'precipMM_Origin',\n",
        "       'Visibility_Origin', 'Pressure_Origin', 'Cloudcover_Origin',\n",
        "       'DewPointF_Origin', 'WindGustKmph_Origin', 'tempF_Origin',\n",
        "       'WindChillF_Origin', 'Humidity_Origin', 'WindSpeedKmph_Dest',\n",
        "       'WindDirDegree_Dest', 'WeatherCode_Dest', 'precipMM_Dest',\n",
        "       'Visibility_Dest', 'Pressure_Dest', 'Cloudcover_Dest', 'DewPointF_Dest',\n",
        "       'WindGustKmph_Dest', 'tempF_Dest', 'WindChillF_Dest', 'Humidity_Dest']\n",
        "       \n",
        "target_regression = 'ArrDelayMinutes'"
      ],
      "execution_count": 2,
      "outputs": []
    },
    {
      "cell_type": "markdown",
      "metadata": {
        "id": "AzQq3tQJBeQd"
      },
      "source": [
        "## Dataset"
      ]
    },
    {
      "cell_type": "code",
      "metadata": {
        "id": "ix4ltDkmBgdA",
        "colab": {
          "base_uri": "https://localhost:8080/"
        },
        "outputId": "03c872b2-f766-41ae-b4a3-b077dbab4fed"
      },
      "source": [
        "flightDF = pd.read_csv(\"drive/MyDrive/Data/dataset.csv\")\n",
        "flightDF = flightDF.astype({\"ArrDel15\": np.int64})\n",
        "flightDF.shape"
      ],
      "execution_count": 3,
      "outputs": [
        {
          "output_type": "execute_result",
          "data": {
            "text/plain": [
              "(1851436, 43)"
            ]
          },
          "metadata": {
            "tags": []
          },
          "execution_count": 3
        }
      ]
    },
    {
      "cell_type": "code",
      "metadata": {
        "id": "XPt7iNpuumzk"
      },
      "source": [
        "trainData, testData = train_test_split(flightDF, test_size=0.2)"
      ],
      "execution_count": 4,
      "outputs": []
    },
    {
      "cell_type": "markdown",
      "metadata": {
        "id": "AATDosGDuSM4"
      },
      "source": [
        "## Pipeline"
      ]
    },
    {
      "cell_type": "markdown",
      "metadata": {
        "id": "nPOFpctkuUQv"
      },
      "source": [
        "### Classification"
      ]
    },
    {
      "cell_type": "code",
      "metadata": {
        "colab": {
          "base_uri": "https://localhost:8080/"
        },
        "id": "uwiq47k9uR1j",
        "outputId": "ec6e23e8-7fb0-4ae3-eeba-777617d905e2"
      },
      "source": [
        "model = RandomForestClassifier()\n",
        "model.fit(trainData[features_classification], trainData[target_classification])\n",
        "testData[\"ArrDel15_pred\"] = model.predict(testData[features_classification])"
      ],
      "execution_count": 5,
      "outputs": [
        {
          "output_type": "stream",
          "text": [
            "/usr/local/lib/python3.7/dist-packages/ipykernel_launcher.py:3: SettingWithCopyWarning: \n",
            "A value is trying to be set on a copy of a slice from a DataFrame.\n",
            "Try using .loc[row_indexer,col_indexer] = value instead\n",
            "\n",
            "See the caveats in the documentation: https://pandas.pydata.org/pandas-docs/stable/user_guide/indexing.html#returning-a-view-versus-a-copy\n",
            "  This is separate from the ipykernel package so we can avoid doing imports until\n"
          ],
          "name": "stderr"
        }
      ]
    },
    {
      "cell_type": "code",
      "metadata": {
        "colab": {
          "base_uri": "https://localhost:8080/"
        },
        "id": "SPS905IsvuXh",
        "outputId": "b8dce09a-45f2-476c-856c-0ca2b9dfdaaa"
      },
      "source": [
        "print(classification_report(testData[target_classification], testData[\"ArrDel15_pred\"]))\n",
        "print(\"Accuracy Score: \", accuracy_score(testData[target_classification], testData[\"ArrDel15_pred\"]))\n",
        "print(\"Balanced Accuracy Score: \", balanced_accuracy_score(testData[target_classification], testData[\"ArrDel15_pred\"]))"
      ],
      "execution_count": 6,
      "outputs": [
        {
          "output_type": "stream",
          "text": [
            "              precision    recall  f1-score   support\n",
            "\n",
            "           0       0.93      0.97      0.95    292671\n",
            "           1       0.88      0.70      0.78     77617\n",
            "\n",
            "    accuracy                           0.92    370288\n",
            "   macro avg       0.90      0.84      0.87    370288\n",
            "weighted avg       0.92      0.92      0.91    370288\n",
            "\n",
            "Accuracy Score:  0.9181312923994296\n",
            "Balanced Accuracy Score:  0.8397703617222656\n"
          ],
          "name": "stdout"
        }
      ]
    },
    {
      "cell_type": "markdown",
      "metadata": {
        "id": "P6lJVbYnxid8"
      },
      "source": [
        "### Extracting Delayed Flights"
      ]
    },
    {
      "cell_type": "code",
      "metadata": {
        "id": "Jr-4zGXCwmIu"
      },
      "source": [
        "trainData = trainData[trainData[\"ArrDel15\"]==1]\n",
        "testData = testData[testData[\"ArrDel15_pred\"]==1]"
      ],
      "execution_count": 8,
      "outputs": []
    },
    {
      "cell_type": "markdown",
      "metadata": {
        "id": "yhyD0hA_w7ST"
      },
      "source": [
        "## Regression"
      ]
    },
    {
      "cell_type": "code",
      "metadata": {
        "colab": {
          "base_uri": "https://localhost:8080/"
        },
        "id": "uSIGDVRxw86V",
        "outputId": "c67d1063-77c5-4797-fbf3-178426d27ba9"
      },
      "source": [
        "model = RandomForestRegressor()\n",
        "model.fit(trainData[features_regression], trainData[target_regression])\n",
        "testData[\"ArrDelayMinutes_pred\"] = model.predict(testData[features_regression])"
      ],
      "execution_count": 9,
      "outputs": [
        {
          "output_type": "stream",
          "text": [
            "/usr/local/lib/python3.7/dist-packages/ipykernel_launcher.py:3: SettingWithCopyWarning: \n",
            "A value is trying to be set on a copy of a slice from a DataFrame.\n",
            "Try using .loc[row_indexer,col_indexer] = value instead\n",
            "\n",
            "See the caveats in the documentation: https://pandas.pydata.org/pandas-docs/stable/user_guide/indexing.html#returning-a-view-versus-a-copy\n",
            "  This is separate from the ipykernel package so we can avoid doing imports until\n"
          ],
          "name": "stderr"
        }
      ]
    },
    {
      "cell_type": "code",
      "metadata": {
        "colab": {
          "base_uri": "https://localhost:8080/"
        },
        "id": "UWI4oUYgxQ7f",
        "outputId": "85f5c679-2099-4838-c9fe-e928cac89010"
      },
      "source": [
        "print(\"R2:\", R2(testData[target_regression], testData[\"ArrDelayMinutes_pred\"]))\n",
        "print(\"MAE:\", MAE(testData[target_regression], testData[\"ArrDelayMinutes_pred\"]))\n",
        "print(\"RMSE:\", np.sqrt(MSE(testData[target_regression], testData[\"ArrDelayMinutes_pred\"])))"
      ],
      "execution_count": 10,
      "outputs": [
        {
          "output_type": "stream",
          "text": [
            "R2: 0.9469473363514695\n",
            "MAE: 13.738582369667448\n",
            "RMSE: 18.64457262463949\n"
          ],
          "name": "stdout"
        }
      ]
    }
  ]
}